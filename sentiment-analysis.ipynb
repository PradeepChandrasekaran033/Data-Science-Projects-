{
 "cells": [
  {
   "cell_type": "code",
   "execution_count": 1,
   "id": "546c8d5b",
   "metadata": {
    "execution": {
     "iopub.execute_input": "2025-06-29T06:20:45.844187Z",
     "iopub.status.busy": "2025-06-29T06:20:45.843826Z",
     "iopub.status.idle": "2025-06-29T06:21:11.436786Z",
     "shell.execute_reply": "2025-06-29T06:21:11.435468Z"
    },
    "papermill": {
     "duration": 25.601765,
     "end_time": "2025-06-29T06:21:11.438912",
     "exception": false,
     "start_time": "2025-06-29T06:20:45.837147",
     "status": "completed"
    },
    "tags": []
   },
   "outputs": [],
   "source": [
    "import pandas as pd\n",
    "import seaborn as sn\n",
    "from sklearn.preprocessing import LabelEncoder\n",
    "import spacy\n",
    "import re\n",
    "import numpy as np\n",
    "import tensorflow as tf\n",
    "from tensorflow.keras.optimizers import Adam\n",
    "from tensorflow.keras.models import Sequential\n",
    "from tensorflow.keras import layers\n",
    "from tensorflow.keras.layers import Embedding,Dense,LSTM,Dropout\n",
    "import keras_tuner as kt\n",
    "from tensorflow.keras.regularizers import l1_l2\n",
    "from sklearn.preprocessing import MinMaxScaler \n",
    "from sklearn.model_selection import train_test_split\n",
    "from sklearn.feature_extraction.text import TfidfVectorizer\n",
    "from tensorflow.keras.preprocessing.text import Tokenizer\n",
    "from tensorflow.keras.preprocessing.sequence import pad_sequences"
   ]
  },
  {
   "cell_type": "code",
   "execution_count": 2,
   "id": "d1352fbb",
   "metadata": {
    "execution": {
     "iopub.execute_input": "2025-06-29T06:21:11.451228Z",
     "iopub.status.busy": "2025-06-29T06:21:11.450559Z",
     "iopub.status.idle": "2025-06-29T06:21:12.229788Z",
     "shell.execute_reply": "2025-06-29T06:21:12.228594Z"
    },
    "papermill": {
     "duration": 0.787655,
     "end_time": "2025-06-29T06:21:12.231852",
     "exception": false,
     "start_time": "2025-06-29T06:21:11.444197",
     "status": "completed"
    },
    "tags": []
   },
   "outputs": [
    {
     "data": {
      "text/html": [
       "<div>\n",
       "<style scoped>\n",
       "    .dataframe tbody tr th:only-of-type {\n",
       "        vertical-align: middle;\n",
       "    }\n",
       "\n",
       "    .dataframe tbody tr th {\n",
       "        vertical-align: top;\n",
       "    }\n",
       "\n",
       "    .dataframe thead th {\n",
       "        text-align: right;\n",
       "    }\n",
       "</style>\n",
       "<table border=\"1\" class=\"dataframe\">\n",
       "  <thead>\n",
       "    <tr style=\"text-align: right;\">\n",
       "      <th></th>\n",
       "      <th>Year</th>\n",
       "      <th>Month</th>\n",
       "      <th>Day</th>\n",
       "      <th>Time of Tweet</th>\n",
       "      <th>text</th>\n",
       "      <th>sentiment</th>\n",
       "      <th>Platform</th>\n",
       "    </tr>\n",
       "  </thead>\n",
       "  <tbody>\n",
       "    <tr>\n",
       "      <th>0</th>\n",
       "      <td>2018</td>\n",
       "      <td>8</td>\n",
       "      <td>18</td>\n",
       "      <td>noon</td>\n",
       "      <td>I feel sorry, I miss you here in the sea beach</td>\n",
       "      <td>positive</td>\n",
       "      <td>FaceBook</td>\n",
       "    </tr>\n",
       "    <tr>\n",
       "      <th>1</th>\n",
       "      <td>2022</td>\n",
       "      <td>6</td>\n",
       "      <td>8</td>\n",
       "      <td>morning</td>\n",
       "      <td>We attend in the class just for listening teac...</td>\n",
       "      <td>negative</td>\n",
       "      <td>FaceBook</td>\n",
       "    </tr>\n",
       "    <tr>\n",
       "      <th>2</th>\n",
       "      <td>2017</td>\n",
       "      <td>12</td>\n",
       "      <td>28</td>\n",
       "      <td>morning</td>\n",
       "      <td>2 am feedings for the baby are fun when he is ...</td>\n",
       "      <td>positive</td>\n",
       "      <td>FaceBook</td>\n",
       "    </tr>\n",
       "    <tr>\n",
       "      <th>3</th>\n",
       "      <td>2018</td>\n",
       "      <td>5</td>\n",
       "      <td>28</td>\n",
       "      <td>morning</td>\n",
       "      <td>Today first time I arrive in the boat. Its ama...</td>\n",
       "      <td>positive</td>\n",
       "      <td>FaceBook</td>\n",
       "    </tr>\n",
       "    <tr>\n",
       "      <th>4</th>\n",
       "      <td>2016</td>\n",
       "      <td>5</td>\n",
       "      <td>15</td>\n",
       "      <td>morning</td>\n",
       "      <td>My Sharpie is running DANGERously low on ink</td>\n",
       "      <td>negative</td>\n",
       "      <td>FaceBook</td>\n",
       "    </tr>\n",
       "  </tbody>\n",
       "</table>\n",
       "</div>"
      ],
      "text/plain": [
       "   Year  Month  Day Time of Tweet  \\\n",
       "0  2018      8   18          noon   \n",
       "1  2022      6    8       morning   \n",
       "2  2017     12   28       morning   \n",
       "3  2018      5   28       morning   \n",
       "4  2016      5   15       morning   \n",
       "\n",
       "                                                text sentiment  Platform  \n",
       "0     I feel sorry, I miss you here in the sea beach  positive  FaceBook  \n",
       "1  We attend in the class just for listening teac...  negative  FaceBook  \n",
       "2  2 am feedings for the baby are fun when he is ...  positive  FaceBook  \n",
       "3  Today first time I arrive in the boat. Its ama...  positive  FaceBook  \n",
       "4       My Sharpie is running DANGERously low on ink  negative  FaceBook  "
      ]
     },
     "execution_count": 2,
     "metadata": {},
     "output_type": "execute_result"
    }
   ],
   "source": [
    "a=pd.read_excel(\"/kaggle/input/sa-xlsx/sa.xlsx\")\n",
    "a.head()"
   ]
  },
  {
   "cell_type": "code",
   "execution_count": 3,
   "id": "ec0e9e3f",
   "metadata": {
    "execution": {
     "iopub.execute_input": "2025-06-29T06:21:12.247347Z",
     "iopub.status.busy": "2025-06-29T06:21:12.246695Z",
     "iopub.status.idle": "2025-06-29T06:21:12.252799Z",
     "shell.execute_reply": "2025-06-29T06:21:12.251644Z"
    },
    "papermill": {
     "duration": 0.017374,
     "end_time": "2025-06-29T06:21:12.254432",
     "exception": false,
     "start_time": "2025-06-29T06:21:12.237058",
     "status": "completed"
    },
    "tags": []
   },
   "outputs": [
    {
     "data": {
      "text/plain": [
       "(499, 7)"
      ]
     },
     "execution_count": 3,
     "metadata": {},
     "output_type": "execute_result"
    }
   ],
   "source": [
    "a.shape"
   ]
  },
  {
   "cell_type": "code",
   "execution_count": 4,
   "id": "3a4f121a",
   "metadata": {
    "execution": {
     "iopub.execute_input": "2025-06-29T06:21:12.267380Z",
     "iopub.status.busy": "2025-06-29T06:21:12.266992Z",
     "iopub.status.idle": "2025-06-29T06:21:12.293629Z",
     "shell.execute_reply": "2025-06-29T06:21:12.292364Z"
    },
    "papermill": {
     "duration": 0.035461,
     "end_time": "2025-06-29T06:21:12.295361",
     "exception": false,
     "start_time": "2025-06-29T06:21:12.259900",
     "status": "completed"
    },
    "tags": []
   },
   "outputs": [
    {
     "name": "stdout",
     "output_type": "stream",
     "text": [
      "<class 'pandas.core.frame.DataFrame'>\n",
      "RangeIndex: 499 entries, 0 to 498\n",
      "Data columns (total 7 columns):\n",
      " #   Column         Non-Null Count  Dtype \n",
      "---  ------         --------------  ----- \n",
      " 0   Year           499 non-null    int64 \n",
      " 1   Month          499 non-null    int64 \n",
      " 2   Day            499 non-null    int64 \n",
      " 3   Time of Tweet  499 non-null    object\n",
      " 4   text           499 non-null    object\n",
      " 5   sentiment      499 non-null    object\n",
      " 6   Platform       499 non-null    object\n",
      "dtypes: int64(3), object(4)\n",
      "memory usage: 27.4+ KB\n"
     ]
    }
   ],
   "source": [
    "a.info()"
   ]
  },
  {
   "cell_type": "code",
   "execution_count": 5,
   "id": "a4d7c0af",
   "metadata": {
    "execution": {
     "iopub.execute_input": "2025-06-29T06:21:12.307325Z",
     "iopub.status.busy": "2025-06-29T06:21:12.306919Z",
     "iopub.status.idle": "2025-06-29T06:21:12.314608Z",
     "shell.execute_reply": "2025-06-29T06:21:12.313474Z"
    },
    "papermill": {
     "duration": 0.016237,
     "end_time": "2025-06-29T06:21:12.316996",
     "exception": false,
     "start_time": "2025-06-29T06:21:12.300759",
     "status": "completed"
    },
    "tags": []
   },
   "outputs": [
    {
     "data": {
      "text/plain": [
       "Platform\n",
       " Instagram     171\n",
       "FaceBook       169\n",
       "X              159\n",
       "Name: count, dtype: int64"
      ]
     },
     "execution_count": 5,
     "metadata": {},
     "output_type": "execute_result"
    }
   ],
   "source": [
    "a[\"Platform\"].value_counts()"
   ]
  },
  {
   "cell_type": "code",
   "execution_count": 6,
   "id": "f6fda616",
   "metadata": {
    "execution": {
     "iopub.execute_input": "2025-06-29T06:21:12.329193Z",
     "iopub.status.busy": "2025-06-29T06:21:12.328845Z",
     "iopub.status.idle": "2025-06-29T06:21:12.336251Z",
     "shell.execute_reply": "2025-06-29T06:21:12.335337Z"
    },
    "papermill": {
     "duration": 0.015231,
     "end_time": "2025-06-29T06:21:12.337806",
     "exception": false,
     "start_time": "2025-06-29T06:21:12.322575",
     "status": "completed"
    },
    "tags": []
   },
   "outputs": [
    {
     "data": {
      "text/plain": [
       "sentiment\n",
       "neutral     199\n",
       "positive    166\n",
       "negative    134\n",
       "Name: count, dtype: int64"
      ]
     },
     "execution_count": 6,
     "metadata": {},
     "output_type": "execute_result"
    }
   ],
   "source": [
    "a[\"sentiment\"].value_counts()"
   ]
  },
  {
   "cell_type": "code",
   "execution_count": 7,
   "id": "6d77b39d",
   "metadata": {
    "execution": {
     "iopub.execute_input": "2025-06-29T06:21:12.350133Z",
     "iopub.status.busy": "2025-06-29T06:21:12.349734Z",
     "iopub.status.idle": "2025-06-29T06:21:12.356141Z",
     "shell.execute_reply": "2025-06-29T06:21:12.354898Z"
    },
    "papermill": {
     "duration": 0.014499,
     "end_time": "2025-06-29T06:21:12.357963",
     "exception": false,
     "start_time": "2025-06-29T06:21:12.343464",
     "status": "completed"
    },
    "tags": []
   },
   "outputs": [
    {
     "data": {
      "text/plain": [
       "'We attend in the class just for listening teachers reading on slide. Just Nonsence  '"
      ]
     },
     "execution_count": 7,
     "metadata": {},
     "output_type": "execute_result"
    }
   ],
   "source": [
    "a[\"text\"][25]"
   ]
  },
  {
   "cell_type": "code",
   "execution_count": 8,
   "id": "745e1266",
   "metadata": {
    "execution": {
     "iopub.execute_input": "2025-06-29T06:21:12.370361Z",
     "iopub.status.busy": "2025-06-29T06:21:12.369933Z",
     "iopub.status.idle": "2025-06-29T06:21:12.376200Z",
     "shell.execute_reply": "2025-06-29T06:21:12.375052Z"
    },
    "papermill": {
     "duration": 0.014446,
     "end_time": "2025-06-29T06:21:12.377957",
     "exception": false,
     "start_time": "2025-06-29T06:21:12.363511",
     "status": "completed"
    },
    "tags": []
   },
   "outputs": [
    {
     "data": {
      "text/plain": [
       "'Watching Ellen Love her!! then doing the dishes  and tanning ...it`s gorgeous out!'"
      ]
     },
     "execution_count": 8,
     "metadata": {},
     "output_type": "execute_result"
    }
   ],
   "source": [
    "a[\"text\"][100]"
   ]
  },
  {
   "cell_type": "code",
   "execution_count": 9,
   "id": "414d9747",
   "metadata": {
    "execution": {
     "iopub.execute_input": "2025-06-29T06:21:12.390610Z",
     "iopub.status.busy": "2025-06-29T06:21:12.390183Z",
     "iopub.status.idle": "2025-06-29T06:21:12.397059Z",
     "shell.execute_reply": "2025-06-29T06:21:12.395854Z"
    },
    "papermill": {
     "duration": 0.015386,
     "end_time": "2025-06-29T06:21:12.399091",
     "exception": false,
     "start_time": "2025-06-29T06:21:12.383705",
     "status": "completed"
    },
    "tags": []
   },
   "outputs": [
    {
     "data": {
      "text/plain": [
       "\" the 'no pants' idea could be the new attempt world-wide to attract business back to the airlines.\""
      ]
     },
     "execution_count": 9,
     "metadata": {},
     "output_type": "execute_result"
    }
   ],
   "source": [
    "a[\"text\"][300]"
   ]
  },
  {
   "cell_type": "code",
   "execution_count": 10,
   "id": "bdace504",
   "metadata": {
    "execution": {
     "iopub.execute_input": "2025-06-29T06:21:12.413361Z",
     "iopub.status.busy": "2025-06-29T06:21:12.412936Z",
     "iopub.status.idle": "2025-06-29T06:21:12.425675Z",
     "shell.execute_reply": "2025-06-29T06:21:12.424451Z"
    },
    "papermill": {
     "duration": 0.022627,
     "end_time": "2025-06-29T06:21:12.427680",
     "exception": false,
     "start_time": "2025-06-29T06:21:12.405053",
     "status": "completed"
    },
    "tags": []
   },
   "outputs": [
    {
     "data": {
      "text/html": [
       "<div>\n",
       "<style scoped>\n",
       "    .dataframe tbody tr th:only-of-type {\n",
       "        vertical-align: middle;\n",
       "    }\n",
       "\n",
       "    .dataframe tbody tr th {\n",
       "        vertical-align: top;\n",
       "    }\n",
       "\n",
       "    .dataframe thead th {\n",
       "        text-align: right;\n",
       "    }\n",
       "</style>\n",
       "<table border=\"1\" class=\"dataframe\">\n",
       "  <thead>\n",
       "    <tr style=\"text-align: right;\">\n",
       "      <th></th>\n",
       "      <th>text</th>\n",
       "      <th>sentiment</th>\n",
       "    </tr>\n",
       "  </thead>\n",
       "  <tbody>\n",
       "    <tr>\n",
       "      <th>0</th>\n",
       "      <td>I feel sorry, I miss you here in the sea beach</td>\n",
       "      <td>positive</td>\n",
       "    </tr>\n",
       "    <tr>\n",
       "      <th>1</th>\n",
       "      <td>We attend in the class just for listening teac...</td>\n",
       "      <td>negative</td>\n",
       "    </tr>\n",
       "    <tr>\n",
       "      <th>2</th>\n",
       "      <td>2 am feedings for the baby are fun when he is ...</td>\n",
       "      <td>positive</td>\n",
       "    </tr>\n",
       "    <tr>\n",
       "      <th>3</th>\n",
       "      <td>Today first time I arrive in the boat. Its ama...</td>\n",
       "      <td>positive</td>\n",
       "    </tr>\n",
       "    <tr>\n",
       "      <th>4</th>\n",
       "      <td>My Sharpie is running DANGERously low on ink</td>\n",
       "      <td>negative</td>\n",
       "    </tr>\n",
       "  </tbody>\n",
       "</table>\n",
       "</div>"
      ],
      "text/plain": [
       "                                                text sentiment\n",
       "0     I feel sorry, I miss you here in the sea beach  positive\n",
       "1  We attend in the class just for listening teac...  negative\n",
       "2  2 am feedings for the baby are fun when he is ...  positive\n",
       "3  Today first time I arrive in the boat. Its ama...  positive\n",
       "4       My Sharpie is running DANGERously low on ink  negative"
      ]
     },
     "execution_count": 10,
     "metadata": {},
     "output_type": "execute_result"
    }
   ],
   "source": [
    "a.drop([\"Year\",\"Month\",\"Day\",\"Time of Tweet\",\"Platform\"],axis=1,inplace=True)\n",
    "a.head()"
   ]
  },
  {
   "cell_type": "code",
   "execution_count": 11,
   "id": "307e509b",
   "metadata": {
    "execution": {
     "iopub.execute_input": "2025-06-29T06:21:12.442002Z",
     "iopub.status.busy": "2025-06-29T06:21:12.441596Z",
     "iopub.status.idle": "2025-06-29T06:21:12.452765Z",
     "shell.execute_reply": "2025-06-29T06:21:12.451386Z"
    },
    "papermill": {
     "duration": 0.020418,
     "end_time": "2025-06-29T06:21:12.454760",
     "exception": false,
     "start_time": "2025-06-29T06:21:12.434342",
     "status": "completed"
    },
    "tags": []
   },
   "outputs": [
    {
     "data": {
      "text/html": [
       "<div>\n",
       "<style scoped>\n",
       "    .dataframe tbody tr th:only-of-type {\n",
       "        vertical-align: middle;\n",
       "    }\n",
       "\n",
       "    .dataframe tbody tr th {\n",
       "        vertical-align: top;\n",
       "    }\n",
       "\n",
       "    .dataframe thead th {\n",
       "        text-align: right;\n",
       "    }\n",
       "</style>\n",
       "<table border=\"1\" class=\"dataframe\">\n",
       "  <thead>\n",
       "    <tr style=\"text-align: right;\">\n",
       "      <th></th>\n",
       "      <th>text</th>\n",
       "      <th>sentiment</th>\n",
       "    </tr>\n",
       "  </thead>\n",
       "  <tbody>\n",
       "    <tr>\n",
       "      <th>0</th>\n",
       "      <td>I feel sorry, I miss you here in the sea beach</td>\n",
       "      <td>2</td>\n",
       "    </tr>\n",
       "    <tr>\n",
       "      <th>1</th>\n",
       "      <td>We attend in the class just for listening teac...</td>\n",
       "      <td>0</td>\n",
       "    </tr>\n",
       "    <tr>\n",
       "      <th>2</th>\n",
       "      <td>2 am feedings for the baby are fun when he is ...</td>\n",
       "      <td>2</td>\n",
       "    </tr>\n",
       "    <tr>\n",
       "      <th>3</th>\n",
       "      <td>Today first time I arrive in the boat. Its ama...</td>\n",
       "      <td>2</td>\n",
       "    </tr>\n",
       "    <tr>\n",
       "      <th>4</th>\n",
       "      <td>My Sharpie is running DANGERously low on ink</td>\n",
       "      <td>0</td>\n",
       "    </tr>\n",
       "  </tbody>\n",
       "</table>\n",
       "</div>"
      ],
      "text/plain": [
       "                                                text  sentiment\n",
       "0     I feel sorry, I miss you here in the sea beach          2\n",
       "1  We attend in the class just for listening teac...          0\n",
       "2  2 am feedings for the baby are fun when he is ...          2\n",
       "3  Today first time I arrive in the boat. Its ama...          2\n",
       "4       My Sharpie is running DANGERously low on ink          0"
      ]
     },
     "execution_count": 11,
     "metadata": {},
     "output_type": "execute_result"
    }
   ],
   "source": [
    "le=LabelEncoder()\n",
    "a[\"sentiment\"]=le.fit_transform(a[\"sentiment\"])\n",
    "a.head()"
   ]
  },
  {
   "cell_type": "code",
   "execution_count": 12,
   "id": "359c4a5f",
   "metadata": {
    "execution": {
     "iopub.execute_input": "2025-06-29T06:21:12.468610Z",
     "iopub.status.busy": "2025-06-29T06:21:12.468189Z",
     "iopub.status.idle": "2025-06-29T06:21:17.857544Z",
     "shell.execute_reply": "2025-06-29T06:21:17.856398Z"
    },
    "papermill": {
     "duration": 5.398966,
     "end_time": "2025-06-29T06:21:17.860038",
     "exception": false,
     "start_time": "2025-06-29T06:21:12.461072",
     "status": "completed"
    },
    "tags": []
   },
   "outputs": [
    {
     "data": {
      "text/html": [
       "<div>\n",
       "<style scoped>\n",
       "    .dataframe tbody tr th:only-of-type {\n",
       "        vertical-align: middle;\n",
       "    }\n",
       "\n",
       "    .dataframe tbody tr th {\n",
       "        vertical-align: top;\n",
       "    }\n",
       "\n",
       "    .dataframe thead th {\n",
       "        text-align: right;\n",
       "    }\n",
       "</style>\n",
       "<table border=\"1\" class=\"dataframe\">\n",
       "  <thead>\n",
       "    <tr style=\"text-align: right;\">\n",
       "      <th></th>\n",
       "      <th>text</th>\n",
       "      <th>sentiment</th>\n",
       "      <th>finaltext</th>\n",
       "    </tr>\n",
       "  </thead>\n",
       "  <tbody>\n",
       "    <tr>\n",
       "      <th>0</th>\n",
       "      <td>I feel sorry, I miss you here in the sea beach</td>\n",
       "      <td>2</td>\n",
       "      <td>feel sorry miss sea beach</td>\n",
       "    </tr>\n",
       "    <tr>\n",
       "      <th>1</th>\n",
       "      <td>We attend in the class just for listening teac...</td>\n",
       "      <td>0</td>\n",
       "      <td>attend class listen teacher read slide nonsence</td>\n",
       "    </tr>\n",
       "    <tr>\n",
       "      <th>2</th>\n",
       "      <td>2 am feedings for the baby are fun when he is ...</td>\n",
       "      <td>2</td>\n",
       "      <td>2 feeding baby fun smile coo</td>\n",
       "    </tr>\n",
       "    <tr>\n",
       "      <th>3</th>\n",
       "      <td>Today first time I arrive in the boat. Its ama...</td>\n",
       "      <td>2</td>\n",
       "      <td>today time arrive boat amazing journey</td>\n",
       "    </tr>\n",
       "    <tr>\n",
       "      <th>4</th>\n",
       "      <td>My Sharpie is running DANGERously low on ink</td>\n",
       "      <td>0</td>\n",
       "      <td>sharpie run dangerously low ink</td>\n",
       "    </tr>\n",
       "  </tbody>\n",
       "</table>\n",
       "</div>"
      ],
      "text/plain": [
       "                                                text  sentiment  \\\n",
       "0     I feel sorry, I miss you here in the sea beach          2   \n",
       "1  We attend in the class just for listening teac...          0   \n",
       "2  2 am feedings for the baby are fun when he is ...          2   \n",
       "3  Today first time I arrive in the boat. Its ama...          2   \n",
       "4       My Sharpie is running DANGERously low on ink          0   \n",
       "\n",
       "                                         finaltext  \n",
       "0                        feel sorry miss sea beach  \n",
       "1  attend class listen teacher read slide nonsence  \n",
       "2                     2 feeding baby fun smile coo  \n",
       "3           today time arrive boat amazing journey  \n",
       "4                  sharpie run dangerously low ink  "
      ]
     },
     "execution_count": 12,
     "metadata": {},
     "output_type": "execute_result"
    }
   ],
   "source": [
    "nlp=spacy.load(\"en_core_web_sm\")\n",
    "def text_pp(t):\n",
    "  t=t.lower()\n",
    "  t=t.replace(\"`\",\"\").strip()\n",
    "  t=t.replace(\"''\",\"\").strip()\n",
    "  t=re.sub(r'\\s+', ' ', t).strip()\n",
    "  t=nlp(t)\n",
    "  p=[w.lemma_ for w in t if not w.is_stop and not w.is_punct]\n",
    "  return ' '.join(p)\n",
    "a[\"finaltext\"]=a[\"text\"].apply(text_pp)\n",
    "a.head()"
   ]
  },
  {
   "cell_type": "code",
   "execution_count": 13,
   "id": "9aa8afc8",
   "metadata": {
    "execution": {
     "iopub.execute_input": "2025-06-29T06:21:17.874620Z",
     "iopub.status.busy": "2025-06-29T06:21:17.874132Z",
     "iopub.status.idle": "2025-06-29T06:21:17.886558Z",
     "shell.execute_reply": "2025-06-29T06:21:17.885270Z"
    },
    "papermill": {
     "duration": 0.021877,
     "end_time": "2025-06-29T06:21:17.888630",
     "exception": false,
     "start_time": "2025-06-29T06:21:17.866753",
     "status": "completed"
    },
    "tags": []
   },
   "outputs": [
    {
     "data": {
      "text/html": [
       "<div>\n",
       "<style scoped>\n",
       "    .dataframe tbody tr th:only-of-type {\n",
       "        vertical-align: middle;\n",
       "    }\n",
       "\n",
       "    .dataframe tbody tr th {\n",
       "        vertical-align: top;\n",
       "    }\n",
       "\n",
       "    .dataframe thead th {\n",
       "        text-align: right;\n",
       "    }\n",
       "</style>\n",
       "<table border=\"1\" class=\"dataframe\">\n",
       "  <thead>\n",
       "    <tr style=\"text-align: right;\">\n",
       "      <th></th>\n",
       "      <th>sentiment</th>\n",
       "      <th>finaltext</th>\n",
       "    </tr>\n",
       "  </thead>\n",
       "  <tbody>\n",
       "    <tr>\n",
       "      <th>0</th>\n",
       "      <td>2</td>\n",
       "      <td>feel sorry miss sea beach</td>\n",
       "    </tr>\n",
       "    <tr>\n",
       "      <th>1</th>\n",
       "      <td>0</td>\n",
       "      <td>attend class listen teacher read slide nonsence</td>\n",
       "    </tr>\n",
       "    <tr>\n",
       "      <th>2</th>\n",
       "      <td>2</td>\n",
       "      <td>2 feeding baby fun smile coo</td>\n",
       "    </tr>\n",
       "    <tr>\n",
       "      <th>3</th>\n",
       "      <td>2</td>\n",
       "      <td>today time arrive boat amazing journey</td>\n",
       "    </tr>\n",
       "    <tr>\n",
       "      <th>4</th>\n",
       "      <td>0</td>\n",
       "      <td>sharpie run dangerously low ink</td>\n",
       "    </tr>\n",
       "  </tbody>\n",
       "</table>\n",
       "</div>"
      ],
      "text/plain": [
       "   sentiment                                        finaltext\n",
       "0          2                        feel sorry miss sea beach\n",
       "1          0  attend class listen teacher read slide nonsence\n",
       "2          2                     2 feeding baby fun smile coo\n",
       "3          2           today time arrive boat amazing journey\n",
       "4          0                  sharpie run dangerously low ink"
      ]
     },
     "execution_count": 13,
     "metadata": {},
     "output_type": "execute_result"
    }
   ],
   "source": [
    "a.drop([\"text\"],axis=1,inplace=True)\n",
    "a.head()"
   ]
  },
  {
   "cell_type": "code",
   "execution_count": 14,
   "id": "294c2145",
   "metadata": {
    "execution": {
     "iopub.execute_input": "2025-06-29T06:21:17.903020Z",
     "iopub.status.busy": "2025-06-29T06:21:17.902660Z",
     "iopub.status.idle": "2025-06-29T06:21:17.908915Z",
     "shell.execute_reply": "2025-06-29T06:21:17.907925Z"
    },
    "papermill": {
     "duration": 0.015375,
     "end_time": "2025-06-29T06:21:17.910754",
     "exception": false,
     "start_time": "2025-06-29T06:21:17.895379",
     "status": "completed"
    },
    "tags": []
   },
   "outputs": [
    {
     "data": {
      "text/plain": [
       "'attend class listen teacher read slide nonsence'"
      ]
     },
     "execution_count": 14,
     "metadata": {},
     "output_type": "execute_result"
    }
   ],
   "source": [
    "a[\"finaltext\"][25]"
   ]
  },
  {
   "cell_type": "code",
   "execution_count": 15,
   "id": "e0960d6e",
   "metadata": {
    "execution": {
     "iopub.execute_input": "2025-06-29T06:21:17.926217Z",
     "iopub.status.busy": "2025-06-29T06:21:17.925781Z",
     "iopub.status.idle": "2025-06-29T06:21:17.931773Z",
     "shell.execute_reply": "2025-06-29T06:21:17.930696Z"
    },
    "papermill": {
     "duration": 0.016252,
     "end_time": "2025-06-29T06:21:17.933687",
     "exception": false,
     "start_time": "2025-06-29T06:21:17.917435",
     "status": "completed"
    },
    "tags": []
   },
   "outputs": [
    {
     "data": {
      "text/plain": [
       "'watch ellen love dish tanning gorgeous'"
      ]
     },
     "execution_count": 15,
     "metadata": {},
     "output_type": "execute_result"
    }
   ],
   "source": [
    "a[\"finaltext\"][100]"
   ]
  },
  {
   "cell_type": "code",
   "execution_count": 16,
   "id": "6db6fad9",
   "metadata": {
    "execution": {
     "iopub.execute_input": "2025-06-29T06:21:17.948384Z",
     "iopub.status.busy": "2025-06-29T06:21:17.948032Z",
     "iopub.status.idle": "2025-06-29T06:21:17.954622Z",
     "shell.execute_reply": "2025-06-29T06:21:17.953595Z"
    },
    "papermill": {
     "duration": 0.015717,
     "end_time": "2025-06-29T06:21:17.956315",
     "exception": false,
     "start_time": "2025-06-29T06:21:17.940598",
     "status": "completed"
    },
    "tags": []
   },
   "outputs": [
    {
     "data": {
      "text/plain": [
       "'pant idea new attempt world wide attract business airline'"
      ]
     },
     "execution_count": 16,
     "metadata": {},
     "output_type": "execute_result"
    }
   ],
   "source": [
    "a[\"finaltext\"][300]"
   ]
  },
  {
   "cell_type": "code",
   "execution_count": 17,
   "id": "b0dfa7c3",
   "metadata": {
    "execution": {
     "iopub.execute_input": "2025-06-29T06:21:17.971167Z",
     "iopub.status.busy": "2025-06-29T06:21:17.970794Z",
     "iopub.status.idle": "2025-06-29T06:21:17.993201Z",
     "shell.execute_reply": "2025-06-29T06:21:17.991893Z"
    },
    "papermill": {
     "duration": 0.031946,
     "end_time": "2025-06-29T06:21:17.995179",
     "exception": false,
     "start_time": "2025-06-29T06:21:17.963233",
     "status": "completed"
    },
    "tags": []
   },
   "outputs": [
    {
     "name": "stdout",
     "output_type": "stream",
     "text": [
      "[ 16  28  14 173 174   0   0   0   0   0   0   0   0   0   0   0   0   0]\n"
     ]
    }
   ],
   "source": [
    "tok=Tokenizer(num_words=1000, oov_token=\"<OOV>\")\n",
    "tok.fit_on_texts(a[\"finaltext\"])\n",
    "seq=tok.texts_to_sequences(a[\"finaltext\"])\n",
    "pad=pad_sequences(seq,maxlen=18,padding=\"post\")\n",
    "print(pad[0])"
   ]
  },
  {
   "cell_type": "code",
   "execution_count": 18,
   "id": "ef3ba038",
   "metadata": {
    "execution": {
     "iopub.execute_input": "2025-06-29T06:21:18.010286Z",
     "iopub.status.busy": "2025-06-29T06:21:18.009868Z",
     "iopub.status.idle": "2025-06-29T06:21:18.018192Z",
     "shell.execute_reply": "2025-06-29T06:21:18.017176Z"
    },
    "papermill": {
     "duration": 0.017842,
     "end_time": "2025-06-29T06:21:18.020040",
     "exception": false,
     "start_time": "2025-06-29T06:21:18.002198",
     "status": "completed"
    },
    "tags": []
   },
   "outputs": [
    {
     "data": {
      "text/plain": [
       "(449, 18)"
      ]
     },
     "execution_count": 18,
     "metadata": {},
     "output_type": "execute_result"
    }
   ],
   "source": [
    "x_train,x_test,y_train,y_test=train_test_split(pad,a[\"sentiment\"],test_size=0.1,random_state=42)\n",
    "x_train.shape"
   ]
  },
  {
   "cell_type": "code",
   "execution_count": 19,
   "id": "3d505d6e",
   "metadata": {
    "execution": {
     "iopub.execute_input": "2025-06-29T06:21:18.035325Z",
     "iopub.status.busy": "2025-06-29T06:21:18.034818Z",
     "iopub.status.idle": "2025-06-29T06:21:23.442062Z",
     "shell.execute_reply": "2025-06-29T06:21:23.440833Z"
    },
    "papermill": {
     "duration": 5.416915,
     "end_time": "2025-06-29T06:21:23.443894",
     "exception": false,
     "start_time": "2025-06-29T06:21:18.026979",
     "status": "completed"
    },
    "tags": []
   },
   "outputs": [
    {
     "name": "stdout",
     "output_type": "stream",
     "text": [
      "Epoch 1/15\n"
     ]
    },
    {
     "name": "stderr",
     "output_type": "stream",
     "text": [
      "/usr/local/lib/python3.10/dist-packages/keras/src/layers/core/embedding.py:90: UserWarning: Argument `input_length` is deprecated. Just remove it.\n",
      "  warnings.warn(\n"
     ]
    },
    {
     "name": "stdout",
     "output_type": "stream",
     "text": [
      "\u001b[1m15/15\u001b[0m \u001b[32m━━━━━━━━━━━━━━━━━━━━\u001b[0m\u001b[37m\u001b[0m \u001b[1m3s\u001b[0m 11ms/step - accuracy: 0.4057 - loss: 1.2333\n",
      "Epoch 2/15\n",
      "\u001b[1m15/15\u001b[0m \u001b[32m━━━━━━━━━━━━━━━━━━━━\u001b[0m\u001b[37m\u001b[0m \u001b[1m0s\u001b[0m 10ms/step - accuracy: 0.4362 - loss: 1.1899\n",
      "Epoch 3/15\n",
      "\u001b[1m15/15\u001b[0m \u001b[32m━━━━━━━━━━━━━━━━━━━━\u001b[0m\u001b[37m\u001b[0m \u001b[1m0s\u001b[0m 11ms/step - accuracy: 0.4070 - loss: 1.1808\n",
      "Epoch 4/15\n",
      "\u001b[1m15/15\u001b[0m \u001b[32m━━━━━━━━━━━━━━━━━━━━\u001b[0m\u001b[37m\u001b[0m \u001b[1m0s\u001b[0m 10ms/step - accuracy: 0.3954 - loss: 1.1526\n",
      "Epoch 5/15\n",
      "\u001b[1m15/15\u001b[0m \u001b[32m━━━━━━━━━━━━━━━━━━━━\u001b[0m\u001b[37m\u001b[0m \u001b[1m0s\u001b[0m 10ms/step - accuracy: 0.4436 - loss: 1.0762\n",
      "Epoch 6/15\n",
      "\u001b[1m15/15\u001b[0m \u001b[32m━━━━━━━━━━━━━━━━━━━━\u001b[0m\u001b[37m\u001b[0m \u001b[1m0s\u001b[0m 10ms/step - accuracy: 0.6558 - loss: 0.8280\n",
      "Epoch 7/15\n",
      "\u001b[1m15/15\u001b[0m \u001b[32m━━━━━━━━━━━━━━━━━━━━\u001b[0m\u001b[37m\u001b[0m \u001b[1m0s\u001b[0m 10ms/step - accuracy: 0.7044 - loss: 0.6977\n",
      "Epoch 8/15\n",
      "\u001b[1m15/15\u001b[0m \u001b[32m━━━━━━━━━━━━━━━━━━━━\u001b[0m\u001b[37m\u001b[0m \u001b[1m0s\u001b[0m 10ms/step - accuracy: 0.8540 - loss: 0.4763\n",
      "Epoch 9/15\n",
      "\u001b[1m15/15\u001b[0m \u001b[32m━━━━━━━━━━━━━━━━━━━━\u001b[0m\u001b[37m\u001b[0m \u001b[1m0s\u001b[0m 11ms/step - accuracy: 0.8853 - loss: 0.3502\n",
      "Epoch 10/15\n",
      "\u001b[1m15/15\u001b[0m \u001b[32m━━━━━━━━━━━━━━━━━━━━\u001b[0m\u001b[37m\u001b[0m \u001b[1m0s\u001b[0m 10ms/step - accuracy: 0.9769 - loss: 0.1504\n",
      "Epoch 11/15\n",
      "\u001b[1m15/15\u001b[0m \u001b[32m━━━━━━━━━━━━━━━━━━━━\u001b[0m\u001b[37m\u001b[0m \u001b[1m0s\u001b[0m 10ms/step - accuracy: 0.9618 - loss: 0.2079\n",
      "Epoch 12/15\n",
      "\u001b[1m15/15\u001b[0m \u001b[32m━━━━━━━━━━━━━━━━━━━━\u001b[0m\u001b[37m\u001b[0m \u001b[1m0s\u001b[0m 10ms/step - accuracy: 0.9500 - loss: 0.2366\n",
      "Epoch 13/15\n",
      "\u001b[1m15/15\u001b[0m \u001b[32m━━━━━━━━━━━━━━━━━━━━\u001b[0m\u001b[37m\u001b[0m \u001b[1m0s\u001b[0m 10ms/step - accuracy: 0.9423 - loss: 0.2584\n",
      "Epoch 14/15\n",
      "\u001b[1m15/15\u001b[0m \u001b[32m━━━━━━━━━━━━━━━━━━━━\u001b[0m\u001b[37m\u001b[0m \u001b[1m0s\u001b[0m 10ms/step - accuracy: 0.9489 - loss: 0.2156\n",
      "Epoch 15/15\n",
      "\u001b[1m15/15\u001b[0m \u001b[32m━━━━━━━━━━━━━━━━━━━━\u001b[0m\u001b[37m\u001b[0m \u001b[1m0s\u001b[0m 10ms/step - accuracy: 0.9720 - loss: 0.1768\n"
     ]
    },
    {
     "data": {
      "text/plain": [
       "<keras.src.callbacks.history.History at 0x78835490ee00>"
      ]
     },
     "execution_count": 19,
     "metadata": {},
     "output_type": "execute_result"
    }
   ],
   "source": [
    "model=Sequential([Embedding(input_dim=1170,output_dim=80,input_length=10),\n",
    "                  LSTM(64,kernel_regularizer=l1_l2(l1=1e-4,l2=1e-4)),\n",
    "                  Dropout(0.4),\n",
    "                  Dense(3,activation=\"softmax\")])\n",
    "model.compile(optimizer=Adam(0.001),loss=\"sparse_categorical_crossentropy\",metrics=[\"accuracy\"])\n",
    "model.fit(x_train,y_train,epochs=15)"
   ]
  },
  {
   "cell_type": "code",
   "execution_count": 20,
   "id": "668bf220",
   "metadata": {
    "execution": {
     "iopub.execute_input": "2025-06-29T06:21:23.470305Z",
     "iopub.status.busy": "2025-06-29T06:21:23.469931Z",
     "iopub.status.idle": "2025-06-29T06:21:23.843090Z",
     "shell.execute_reply": "2025-06-29T06:21:23.841902Z"
    },
    "papermill": {
     "duration": 0.388277,
     "end_time": "2025-06-29T06:21:23.844942",
     "exception": false,
     "start_time": "2025-06-29T06:21:23.456665",
     "status": "completed"
    },
    "tags": []
   },
   "outputs": [
    {
     "name": "stdout",
     "output_type": "stream",
     "text": [
      "\u001b[1m2/2\u001b[0m \u001b[32m━━━━━━━━━━━━━━━━━━━━\u001b[0m\u001b[37m\u001b[0m \u001b[1m0s\u001b[0m 8ms/step - accuracy: 0.6854 - loss: 0.8800  \n"
     ]
    }
   ],
   "source": [
    "ls,acc=model.evaluate(x_test,y_test)"
   ]
  }
 ],
 "metadata": {
  "kaggle": {
   "accelerator": "none",
   "dataSources": [
    {
     "datasetId": 6740406,
     "sourceId": 10852421,
     "sourceType": "datasetVersion"
    }
   ],
   "dockerImageVersionId": 30918,
   "isGpuEnabled": false,
   "isInternetEnabled": false,
   "language": "python",
   "sourceType": "notebook"
  },
  "kernelspec": {
   "display_name": "Python 3",
   "language": "python",
   "name": "python3"
  },
  "language_info": {
   "codemirror_mode": {
    "name": "ipython",
    "version": 3
   },
   "file_extension": ".py",
   "mimetype": "text/x-python",
   "name": "python",
   "nbconvert_exporter": "python",
   "pygments_lexer": "ipython3",
   "version": "3.10.12"
  },
  "papermill": {
   "default_parameters": {},
   "duration": 45.197981,
   "end_time": "2025-06-29T06:21:27.324643",
   "environment_variables": {},
   "exception": null,
   "input_path": "__notebook__.ipynb",
   "output_path": "__notebook__.ipynb",
   "parameters": {},
   "start_time": "2025-06-29T06:20:42.126662",
   "version": "2.6.0"
  }
 },
 "nbformat": 4,
 "nbformat_minor": 5
}
